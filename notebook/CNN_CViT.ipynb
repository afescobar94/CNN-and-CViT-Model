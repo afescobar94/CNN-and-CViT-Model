{
  "cells": [
    {
      "cell_type": "markdown",
      "metadata": {
        "id": "0iiDsptZnM5a"
      },
      "source": [
        "## Imports"
      ]
    },
    {
      "cell_type": "code",
      "execution_count": null,
      "metadata": {
        "id": "WjtjqlwbhMj9"
      },
      "outputs": [],
      "source": [
        "# Import necessary libraries\n",
        "import random\n",
        "import numpy as np\n",
        "import matplotlib.pyplot as plt\n",
        "from sklearn.metrics import confusion_matrix\n",
        "\n",
        "import tensorflow as tf\n",
        "from keras.utils import np_utils\n",
        "from tensorflow.keras.utils import plot_model\n",
        "from tensorflow.keras import Input\n",
        "from tensorflow.keras.models import Model\n",
        "from tensorflow.keras.layers import Dense\n",
        "from tensorflow.keras.layers import Conv2D\n",
        "from tensorflow.keras.layers import MaxPooling2D\n",
        "\n",
        "from tensorflow.keras.layers import Dot\n",
        "from tensorflow.keras.layers import Softmax\n",
        "from tensorflow.keras.layers import Reshape\n",
        "from tensorflow.keras.layers import Permute\n",
        "from tensorflow.keras.layers import Flatten\n",
        "from tensorflow.keras.layers import Dropout\n",
        "from tensorflow.keras.layers import Concatenate\n",
        "from sklearn.model_selection import train_test_split\n",
        "from tensorflow.keras.models import load_model\n",
        "\n",
        "import pandas as pd"
      ]
    },
    {
      "cell_type": "markdown",
      "metadata": {
        "id": "6DV2Q6oe2nz5"
      },
      "source": [
        "### Seed"
      ]
    },
    {
      "cell_type": "code",
      "execution_count": null,
      "metadata": {
        "id": "5ZZx-gms2pi0"
      },
      "outputs": [],
      "source": [
        "seed = 42\n",
        "random.seed(seed)\n",
        "np.random.seed(seed)\n",
        "tf.random.set_seed(seed)\n",
        "tf.keras.utils.set_random_seed(seed)"
      ]
    },
    {
      "cell_type": "markdown",
      "metadata": {
        "id": "tGMnUIXjhd8t"
      },
      "source": [
        "## Load data\n",
        "Load data and target arrays from '.npy' files\n",
        "- data: (number_of_images, 224, 224)\n",
        "- target: (number_of_images, 1)"
      ]
    },
    {
      "cell_type": "code",
      "execution_count": null,
      "metadata": {
        "id": "VLZedFO1e8Bl"
      },
      "outputs": [],
      "source": [
        "data = np.load('/path/data_file_name.npy')\n",
        "target = np.load('/path/target_file_name.npy')"
      ]
    },
    {
      "cell_type": "markdown",
      "metadata": {
        "id": "ZKJ3Ag3jZ1Xp"
      },
      "source": [
        "### Split data\n",
        "1. Splits the data into training and testing sets using 'train_test_split' from scikit-learn.\n",
        "- 'data' contains the input data.\n",
        "- 'target' contains the corresponding target values or labels.\n",
        "- 'test_size' specifies the proportion of the data to be used for validation (in this case, 15%).\n",
        "- 'random_state' is used to ensure reproducibility.\n",
        "- 'shuffle=True' shuffles the data before splitting."
      ]
    },
    {
      "cell_type": "code",
      "execution_count": null,
      "metadata": {
        "id": "7RuYjxXVX2iT"
      },
      "outputs": [],
      "source": [
        "# Split Data into Training and Testing Sets\n",
        "x_train, x_test, y_train, y_test = train_test_split(data, target, test_size= 0.15, random_state= seed, shuffle=True)\n",
        "\n",
        "# Reshape the Training and Testing Data\n",
        "x_train = x_train.reshape(x_train.shape[0],224,224,1)\n",
        "x_test = x_test.reshape(x_test.shape[0],224,224,1)\n",
        "\n",
        "# Print Shapes of the Split and Reshaped Data\n",
        "print(x_train.shape)\n",
        "print(y_train.shape)\n",
        "print(x_test.shape)\n",
        "print(y_test.shape)"
      ]
    },
    {
      "cell_type": "markdown",
      "source": [
        "1. Converts the 'y_train' array, which contains target values, into a DataFrame called 'df_y_train'.\n",
        "2. Calls the 'value_counts()' function on the DataFrame to count the occurrences of each unique value in 'y_train'.\n",
        "- This is useful for understanding the distribution of target values in the training data.\n",
        "- The result will show the count of each unique value along with their respective frequencies."
      ],
      "metadata": {
        "id": "KunxCNqxugY2"
      }
    },
    {
      "cell_type": "code",
      "execution_count": null,
      "metadata": {
        "colab": {
          "base_uri": "https://localhost:8080/"
        },
        "id": "f-d91vg7acbG",
        "outputId": "afc9a964-5ed2-4dc6-d9b1-20a5524743be"
      },
      "outputs": [
        {
          "data": {
            "text/plain": [
              "2    2785\n",
              "1     861\n",
              "0     836\n",
              "dtype: int64"
            ]
          },
          "execution_count": 9,
          "metadata": {},
          "output_type": "execute_result"
        }
      ],
      "source": [
        "# Create a DataFrame from y_train\n",
        "df_y_train = pd.DataFrame(y_train)\n",
        "# Count the occurrences of each unique value in the DataFrame\n",
        "df_y_train.value_counts()"
      ]
    },
    {
      "cell_type": "code",
      "execution_count": null,
      "metadata": {
        "colab": {
          "base_uri": "https://localhost:8080/"
        },
        "id": "BwtfB9xddlHM",
        "outputId": "8394b734-d299-4979-fece-b09c5437ee10"
      },
      "outputs": [
        {
          "name": "stdout",
          "output_type": "stream",
          "text": [
            "255.0 0.0\n",
            "255.0 0.0\n"
          ]
        }
      ],
      "source": [
        "# Print the Maximum and Minimum Values in Training and Validation Data\n",
        "print(np.max(x_train), np.min(x_train))\n",
        "print(np.max(x_test), np.min(x_test))"
      ]
    },
    {
      "cell_type": "markdown",
      "metadata": {
        "id": "VyURNwxaZ3Kw"
      },
      "source": [
        "### Normalize between -1 and 1"
      ]
    },
    {
      "cell_type": "code",
      "execution_count": null,
      "metadata": {
        "id": "rrvdAX1WZzCG"
      },
      "outputs": [],
      "source": [
        "def normalize(x_train, x_test):\n",
        "    \"\"\"\n",
        "    Normalize the pixel values in the input training and validation data.\n",
        "\n",
        "    Args:\n",
        "        x_train (numpy.ndarray): Training data containing pixel values.\n",
        "        x_test (numpy.ndarray): Validation data containing pixel values.\n",
        "\n",
        "    Returns:\n",
        "        tuple: A tuple containing the normalized training and validation data.\n",
        "    \"\"\"\n",
        "    x_train = (x_train - 127.5) / 127.5\n",
        "    x_test = (x_test - 127.5) / 127.5\n",
        "\n",
        "    return x_train, x_test"
      ]
    },
    {
      "cell_type": "markdown",
      "metadata": {
        "id": "-6VgF6Kr4H6_"
      },
      "source": [
        "### Show images"
      ]
    },
    {
      "cell_type": "code",
      "execution_count": null,
      "metadata": {
        "colab": {
          "base_uri": "https://localhost:8080/",
          "height": 451
        },
        "id": "sKiuoD8xiq2r",
        "outputId": "fb14005d-40ef-4256-c768-d582f7b94b5c"
      },
      "outputs": [
        {
          "name": "stdout",
          "output_type": "stream",
          "text": [
            "2\n"
          ]
        },
        {
          "data": {
            "image/png": "[encoded data removed]",
            "text/plain": [
              "<Figure size 640x480 with 1 Axes>"
            ]
          },
          "metadata": {},
          "output_type": "display_data"
        }
      ],
      "source": [
        "# Display an Image from the Validation Data\n",
        "plt.imshow(x_test[1,:,:,0],'gray')\n",
        "print(y_train[1])"
      ]
    },
    {
      "cell_type": "markdown",
      "metadata": {
        "id": "vQm5ANSWnjnG"
      },
      "source": [
        "## One hot vector"
      ]
    },
    {
      "cell_type": "code",
      "execution_count": null,
      "metadata": {
        "id": "52y9_6BVoGFN"
      },
      "outputs": [],
      "source": [
        "def one_hot_encoding(y_train, y_test):\n",
        "    \"\"\"\n",
        "    Perform one-hot encoding on target labels.\n",
        "\n",
        "    Args:\n",
        "        y_train (numpy.ndarray): Training target labels.\n",
        "        y_test (numpy.ndarray): Testing target labels.\n",
        "\n",
        "    Returns:\n",
        "        tuple: A tuple containing the one-hot encoded training and testing labels.\n",
        "    \"\"\"\n",
        "    y_train_encoded = np_utils.to_categorical(y_train)\n",
        "    y_test_encoded = np_utils.to_categorical(y_test)\n",
        "\n",
        "    num_classes = y_test_encoded.shape[1]  # Number of classes\n",
        "\n",
        "    return y_train_encoded, y_test_encoded"
      ]
    },
    {
      "cell_type": "markdown",
      "metadata": {
        "id": "CMEuP5rsnpoI"
      },
      "source": [
        "## Model"
      ]
    },
    {
      "cell_type": "code",
      "execution_count": null,
      "metadata": {
        "id": "XEm-AavTuWt5"
      },
      "outputs": [],
      "source": [
        "def selfAttention(image, len_of_W, reshape, name):\n",
        "    \"\"\"\n",
        "    Apply self-attention mechanism to an input image.\n",
        "\n",
        "    Args:\n",
        "        image (tensorflow.Tensor): Input image tensor.\n",
        "        len_of_W (int): Length of the window or kernel size for convolution.\n",
        "        reshape (list): List specifying the desired shape after reshaping.\n",
        "        name (str): A name prefix for the layers in the self-attention mechanism.\n",
        "\n",
        "    Returns:\n",
        "        tensorflow.Tensor: A tensor representing the result of the self-attention operation.\n",
        "    \"\"\"\n",
        "    # Q Layer\n",
        "    Q = Conv2D(1, (len_of_W, len_of_W), activation='relu', padding='same', name='Q_'+name)(image)\n",
        "    Q = Reshape(reshape, name='Q_Reshape_'+name)(Q)\n",
        "\n",
        "    # K Layer\n",
        "    K = Conv2D(1, (len_of_W, len_of_W), activation='relu', padding='same', name='K_'+name)(image)\n",
        "    K = Reshape(reshape, name='K_Reshape_'+name)(K)\n",
        "\n",
        "    # V Layer\n",
        "    V = Conv2D(1, (len_of_W, len_of_W), activation='relu', padding='same', name='V_'+name)(image)\n",
        "    V = Reshape(reshape, name='V_Reshape_'+name)(V)\n",
        "\n",
        "    # Calculate QK^T (Dot product of Q and the transpose of K)\n",
        "    QKT = Dot(axes=(2, 2), name='dot_product_QKT_'+name)([Q, K])\n",
        "\n",
        "    # Normalize using sqrt(224) and apply softmax\n",
        "    NQKT = tf.divide(QKT, np.sqrt(224))  # Assuming 224 is the input image size\n",
        "\n",
        "    # Apply softmax to obtain attention scores\n",
        "    ATTM = Softmax(name='softmax_'+name)(NQKT)\n",
        "\n",
        "    # Compute weighted sum using the attention scores and V\n",
        "    SelfAtt = Dot(axes=(2, 1), name='selfAttention_'+name)([ATTM, V])\n",
        "\n",
        "    # Reshape the result for further convolution\n",
        "    SelfAtt = Reshape(reshape+[1], name='Reshape2conv_'+name)(SelfAtt)\n",
        "\n",
        "    return SelfAtt\n"
      ]
    },
    {
      "cell_type": "code",
      "execution_count": null,
      "metadata": {
        "id": "lNXkpahlEagF"
      },
      "outputs": [],
      "source": [
        "def multihead_attention(input, number_of_heads, index, ker):\n",
        "    \"\"\"\n",
        "    Apply multi-head self-attention mechanism to an input tensor.\n",
        "\n",
        "    Args:\n",
        "        input (tensorflow.Tensor): Input tensor.\n",
        "        number_of_heads (int): Number of attention heads to use.\n",
        "        index (int): Index to distinguish between multiple multi-head attention instances.\n",
        "        ker (int): Length of the window or kernel size for convolution in the self-attention mechanism.\n",
        "\n",
        "    Returns:\n",
        "        tensorflow.Tensor: A tensor representing the result of the multi-head self-attention operation.\n",
        "    \"\"\"\n",
        "    selfAtt = []\n",
        "\n",
        "    # Loop to create multiple self-attention heads\n",
        "    for i in range(index * number_of_heads, number_of_heads * (index + 1)):\n",
        "        selfAtt.append(selfAttention(input, ker, np.shape(input)[1:3], str(i)))\n",
        "\n",
        "    # Concatenate the results if there are multiple heads\n",
        "    if number_of_heads == 1:\n",
        "        concatted = selfAtt[0]\n",
        "    else:\n",
        "        concatted = tf.keras.layers.Concatenate()(selfAtt)\n",
        "\n",
        "    return concatted\n"
      ]
    },
    {
      "cell_type": "code",
      "execution_count": null,
      "metadata": {
        "id": "38CeVHimfyar"
      },
      "outputs": [],
      "source": [
        "def encoder(input, input_conv, index, ker):\n",
        "    \"\"\"\n",
        "    Apply an encoder operation on the input tensor.\n",
        "\n",
        "    Args:\n",
        "        input (tensorflow.Tensor): Input tensor.\n",
        "        input_conv (tensorflow.Tensor): Input tensor to the convolutional layer.\n",
        "        index (int): Index to distinguish between multiple encoder instances.\n",
        "        ker (int): Length of the window or kernel size for convolution.\n",
        "\n",
        "    Returns:\n",
        "        tensorflow.Tensor: A tensor representing the result of the encoder operation.\n",
        "    \"\"\"\n",
        "    multihead_attention_output = multihead_attention(input_conv, 5, index, ker)  # Number of heads\n",
        "\n",
        "    conv = Conv2D(1, (5, 5), activation='relu', padding='same')(multihead_attention_output)\n",
        "\n",
        "    # Add the residual connection to the original input tensor\n",
        "    residual_layer = tf.keras.layers.Add()([input, conv])\n",
        "\n",
        "    return residual_layer\n"
      ]
    },
    {
      "cell_type": "code",
      "execution_count": null,
      "metadata": {
        "id": "2OYl6_M5Bj2D"
      },
      "outputs": [],
      "source": [
        "def create_model():\n",
        "    \"\"\"\n",
        "    Create a deep learning model for image classification.\n",
        "\n",
        "    Returns:\n",
        "        tensorflow.keras.models.Model: A compiled neural network model for image classification.\n",
        "    \"\"\"\n",
        "    ker = 5  # Kernel size\n",
        "\n",
        "    # Define input layer with shape (224, 224, 1)\n",
        "    input = Input(shape=(224, 224, 1), name='input')\n",
        "\n",
        "    # First convolutional layer\n",
        "    conv = Conv2D(16, (5, 5), activation='relu', padding='same', name='Conv_2')(input)\n",
        "\n",
        "    # First encoder operation\n",
        "    encoder_output = encoder(input, conv, 0, ker)\n",
        "    encoder_output = Dropout(0.1, seed=seed)(encoder_output)\n",
        "\n",
        "    # Second convolutional layer\n",
        "    conv = Conv2D(16, (3, 3), activation='relu', padding='same', name='Conv_3')(encoder_output)\n",
        "\n",
        "    # Second encoder operation\n",
        "    encoder_output = encoder(input, conv, 1, ker)\n",
        "    encoder_output = Dropout(0.1, seed=seed)(encoder_output)\n",
        "\n",
        "    # Max-pooling layer\n",
        "    maxpool = MaxPooling2D(pool_size=(2, 2))(encoder_output)\n",
        "\n",
        "    # Third convolutional layer\n",
        "    conv = Conv2D(16, (3, 3), activation='relu', name='Conv_4')(maxpool)\n",
        "\n",
        "    # Second max-pooling layer\n",
        "    maxpool = MaxPooling2D(pool_size=(2, 2))(conv)\n",
        "\n",
        "    # Flatten layer\n",
        "    flatten = Flatten()(maxpool)\n",
        "\n",
        "    # First dropout layer\n",
        "    dropout = Dropout(0.3, seed=seed)(flatten)\n",
        "\n",
        "    # First dense layer\n",
        "    dense = Dense(256, activation='relu')(dropout)\n",
        "\n",
        "    # Second dropout layer\n",
        "    dropout = Dropout(0.3, seed=seed)(dense)\n",
        "\n",
        "    # Second dense layer\n",
        "    dense = Dense(128, activation='relu')(dropout)\n",
        "\n",
        "    # Output layer with softmax activation for classification\n",
        "    output = Dense(3, activation='softmax')(dense)\n",
        "\n",
        "    # Create the neural network model\n",
        "    model = Model(input, output)\n",
        "\n",
        "    # Compile the model with SGD optimizer, categorical cross-entropy loss, and accuracy metric\n",
        "    opt = tf.keras.optimizers.SGD(learning_rate=0.0001)\n",
        "    model.compile(optimizer=opt, loss='categorical_crossentropy', metrics=['accuracy'])\n",
        "\n",
        "    # Print the model summary and save its visualization to a file\n",
        "    print(model.summary())\n",
        "    plot_model(model, to_file='model.jpg', show_shapes=True)\n",
        "\n",
        "    return model\n"
      ]
    },
    {
      "cell_type": "code",
      "execution_count": null,
      "metadata": {
        "id": "82Xmla59vqda"
      },
      "outputs": [],
      "source": [
        "def checkpoint(path):\n",
        "    \"\"\"\n",
        "    Create callbacks for model checkpointing and early stopping during training.\n",
        "\n",
        "    Args:\n",
        "        path (str): Filepath to save model checkpoints.\n",
        "\n",
        "    Returns:\n",
        "        tuple: A tuple containing checkpoint-related callbacks and the specified checkpoint file path.\n",
        "\n",
        "    This function sets up callbacks for model checkpointing and early stopping during model training. It creates\n",
        "    four callbacks:\n",
        "    1. ModelCheckpoint: Saves the model's weights when validation accuracy reaches its maximum.\n",
        "    2. EarlyStopping based on validation accuracy: Stops training if validation accuracy does not improve for a\n",
        "       specified number of epochs (patience).\n",
        "    3. EarlyStopping based on validation loss: Stops training if validation loss does not improve for a specified\n",
        "       number of epochs (patience).\n",
        "    \"\"\"\n",
        "    checkpoint_filepath = path\n",
        "\n",
        "    # ModelCheckpoint callback\n",
        "    model_checkpoint_callback = tf.keras.callbacks.ModelCheckpoint(\n",
        "        filepath=checkpoint_filepath,\n",
        "        save_weights_only=False,  # Save entire model, not just weights\n",
        "        monitor='val_accuracy',\n",
        "        mode='max',\n",
        "        save_best_only=True  # Save only the best model\n",
        "    )\n",
        "\n",
        "    # EarlyStopping callback based on validation accuracy\n",
        "    early_stopping_acc = tf.keras.callbacks.EarlyStopping(\n",
        "        monitor=\"val_accuracy\",\n",
        "        patience=50,  # Number of epochs with no improvement before stopping\n",
        "        verbose=0,\n",
        "        mode=\"max\",\n",
        "        restore_best_weights=False  # Do not restore weights to the best model\n",
        "    )\n",
        "\n",
        "    # EarlyStopping callback based on validation loss\n",
        "    early_stopping_loss = tf.keras.callbacks.EarlyStopping(\n",
        "        monitor=\"val_loss\",\n",
        "        patience=50,  # Number of epochs with no improvement before stopping\n",
        "        verbose=0,\n",
        "        mode=\"min\",\n",
        "        restore_best_weights=False  # Do not restore weights to the best model\n",
        "    )\n",
        "\n",
        "    return checkpoint_filepath, model_checkpoint_callback, early_stopping_acc, early_stopping_loss\n"
      ]
    },
    {
      "cell_type": "code",
      "execution_count": null,
      "metadata": {
        "id": "aRQYXWvqtKqP"
      },
      "outputs": [],
      "source": [
        "def train_model(model, checkpoint_filepath, model_checkpoint_callback, early_stopping_acc, early_stopping_loss, x_train, y_train2, x_test, y_test2):\n",
        "    \"\"\"\n",
        "    Train a deep learning model with checkpoints and early stopping.\n",
        "\n",
        "    Args:\n",
        "        model (tensorflow.keras.models.Model): The neural network model to be trained.\n",
        "        checkpoint_filepath (str): Filepath to save model checkpoints.\n",
        "        model_checkpoint_callback (tf.keras.callbacks.ModelCheckpoint): Callback for model checkpointing.\n",
        "        early_stopping_acc (tf.keras.callbacks.EarlyStopping): Callback for early stopping based on validation accuracy.\n",
        "        early_stopping_loss (tf.keras.callbacks.EarlyStopping): Callback for early stopping based on validation loss.\n",
        "        x_train (numpy.ndarray): Training data.\n",
        "        y_train2 (numpy.ndarray): One-hot encoded training labels.\n",
        "        x_test (numpy.ndarray): Testing data.\n",
        "        y_test2 (numpy.ndarray): One-hot encoded testing labels.\n",
        "\n",
        "    Returns:\n",
        "        tuple: A tuple containing the trained model, training history, and evaluation results.\n",
        "    \"\"\"\n",
        "    # Train the model with specified callbacks\n",
        "    history = model.fit(x_train, y_train2, validation_data=(x_test, y_test2), epochs=5000,\n",
        "                        callbacks=[model_checkpoint_callback, early_stopping_acc, early_stopping_loss])\n",
        "\n",
        "    # Load the best model checkpoint\n",
        "    model = load_model(checkpoint_filepath)\n",
        "\n",
        "    # Evaluate the model on training and validation sets\n",
        "    training_evaluate = model.evaluate(x_train, y_train2, verbose=0)\n",
        "    validation_evaluate = model.evaluate(x_test, y_test2, verbose=0)\n",
        "\n",
        "    # Print evaluation results\n",
        "    print(\"Training Evaluation - Loss:\", training_evaluate[0], \"Accuracy:\", training_evaluate[1])\n",
        "    print(\"Validation Evaluation - Loss:\", validation_evaluate[0], \"Accuracy:\", validation_evaluate[1])\n",
        "\n",
        "    return model, history, (training_evaluate, validation_evaluate)\n"
      ]
    },
    {
      "cell_type": "markdown",
      "metadata": {
        "id": "SZ-5sLQ547KD"
      },
      "source": [
        "### Train model\n",
        "\n",
        "1. Sets the path for saving model checkpoints.\n",
        "2. Creates checkpoint-related callbacks and retrieves the checkpoint file path using the 'checkpoint' function.\n",
        "3. Normalizes the training and testing data using the 'normalize' function.\n",
        "4. Performs one-hot encoding on the training and testing labels using the 'one_hot_encoding' function.\n",
        "5. Creates a neural network model using the 'create_model' function.\n",
        "6. Trains the model with checkpoints and early stopping using the 'train_model' function.\n",
        "7. The final trained model and training history are stored in the 'model' and 'history' variables, respectively."
      ]
    },
    {
      "cell_type": "code",
      "execution_count": null,
      "metadata": {
        "id": "FhwQ605gfVdK"
      },
      "outputs": [],
      "source": [
        "# Set the path for model checkpoints\n",
        "path = './check_point_path/'\n",
        "\n",
        "# Create checkpoint-related callbacks and get the checkpoint file path\n",
        "checkpoint_filepath, model_checkpoint_callback, early_stopping_acc, early_stopping_loss = checkpoint(path)\n",
        "\n",
        "# Normalize the training and testing data\n",
        "x_train, x_test = normalize(x_train, x_test)\n",
        "\n",
        "# Perform one-hot encoding on training and testing labels\n",
        "y_train2, y_test2 = one_hot_encoding(y_train, y_test)\n",
        "\n",
        "# Create a neural network model\n",
        "model = create_model()\n",
        "\n",
        "# Train the model using checkpoints and early stopping\n",
        "model, history = train_model(model, checkpoint_filepath, model_checkpoint_callback,\n",
        "                             early_stopping_acc, early_stopping_loss, x_train, y_train2, x_test, y_test2)\n"
      ]
    },
    {
      "cell_type": "markdown",
      "metadata": {
        "id": "4KU0GssLmFmj"
      },
      "source": [
        "### Visualize Attention Matrices"
      ]
    },
    {
      "cell_type": "code",
      "execution_count": null,
      "metadata": {
        "id": "wWBTUu3oiUaX"
      },
      "outputs": [],
      "source": [
        "# Iterate through the layers of the model and print their indices and names\n",
        "for i in range(len(model.layers)):\n",
        "    print(i, model.layers[i].name)"
      ]
    },
    {
      "cell_type": "markdown",
      "source": [
        "#### This section performs the following operations:\n",
        "- It iterates through all the layers in the 'model'.\n",
        "- For each layer, it checks if the layer name matches specific attention-related names based on the 'attention_number'.\n",
        "- If a match is found, it creates a new model that takes the same inputs as the original model but outputs the\n",
        "####   output of the specific attention-related layer.\n",
        "- This *section* allows you to extract and use specific attention-related components of the model for further visualization."
      ],
      "metadata": {
        "id": "lHN_xIYN2nMe"
      }
    },
    {
      "cell_type": "code",
      "execution_count": null,
      "metadata": {
        "id": "KztSqJDexFiY"
      },
      "outputs": [],
      "source": [
        "# Define the attention number you want to extract (e.g., '1')\n",
        "attention_number = '1'\n",
        "\n",
        "# Initialize variables to store different attention-related models and layers\n",
        "Q_model = None  # Q Layer\n",
        "K_model = None  # K Layer\n",
        "V_model = None  # V Layer\n",
        "att_matrix = None  # Attention Matrix\n",
        "model_selfatt = None  # Self-Attention Model\n",
        "QKt_model = None  # Dot Product of Q and Transpose of K\n",
        "\n",
        "# Iterate through the layers of the model\n",
        "for i in range(len(model.layers)):\n",
        "    layer_name = model.layers[i].name\n",
        "\n",
        "    # Check if the layer name matches specific attention-related names\n",
        "    if layer_name == 'Q_' + attention_number:\n",
        "        Q_model = Model(inputs=model.inputs, outputs=model.layers[i].output)\n",
        "    elif layer_name == 'K_' + attention_number:\n",
        "        K_model = Model(inputs=model.inputs, outputs=model.layers[i].output)\n",
        "    elif layer_name == 'V_' + attention_number:\n",
        "        V_model = Model(inputs=model.inputs, outputs=model.layers[i].output)\n",
        "    elif layer_name == 'softmax_' + attention_number:\n",
        "        att_matrix = Model(inputs=model.inputs, outputs=model.layers[i].output)\n",
        "    elif layer_name == 'selfAttention_' + attention_number:\n",
        "        model_selfatt = Model(inputs=model.inputs, outputs=model.layers[i].output)\n",
        "    elif layer_name == 'dot_product_QKT_' + attention_number:\n",
        "        QKt_model = Model(inputs=model.inputs, outputs=model.layers[i].output)\n"
      ]
    },
    {
      "cell_type": "code",
      "execution_count": null,
      "metadata": {
        "id": "4AyLgAscmI56"
      },
      "outputs": [],
      "source": [
        "# Loop through three classes (0, 1, and 2)\n",
        "for j in range(3):\n",
        "    # Select the first 10 samples from each class for visualization\n",
        "    for i in np.where(y_test == j)[0][:10]:\n",
        "        num = i\n",
        "        prediction = np.argmax(model.predict(x_test[num].reshape(1, 224, 224, 1)))\n",
        "        color = 'green' if prediction == y_test[num] else 'red'\n",
        "\n",
        "        # Map class labels to human-readable names\n",
        "        if prediction == 0:\n",
        "            prediction = 'normal'\n",
        "        if prediction == 1:\n",
        "            prediction = 'covid'\n",
        "        if prediction == 2:\n",
        "            prediction = 'pneumonia'\n",
        "        if y_test[num] == 0:\n",
        "            target = 'normal'\n",
        "        if y_test[num] == 1:\n",
        "            target = 'covid'\n",
        "        if y_test[num] == 2:\n",
        "            target = 'pneumonia'\n",
        "\n",
        "        # Plot the input image with the target and prediction labels\n",
        "        plt.figure(figsize=(5, 5))\n",
        "        plt.imshow(x_test[num, :, :, 0], 'gray')\n",
        "        plt.title('Input: ' + target + ' __ Prediction: ' + prediction, color=color)\n",
        "\n",
        "        # Create subplots to visualize attention components\n",
        "        plt.figure(figsize=(15, 10))\n",
        "\n",
        "        # Queries\n",
        "        plt.subplot(2, 3, 1)\n",
        "        qmodel = Q_model.predict(x_test[num].reshape(1, 224, 224, 1))[0, :, :, 0]\n",
        "        plt.imshow(qmodel, 'gray')\n",
        "        plt.title('Queries')\n",
        "\n",
        "        # Keys\n",
        "        plt.subplot(2, 3, 2)\n",
        "        kmodel = K_model.predict(x_test[num].reshape(1, 224, 224, 1))[0, :, :, 0]\n",
        "        plt.imshow(kmodel, 'gray')\n",
        "        plt.title('Keys')\n",
        "\n",
        "        # Values\n",
        "        plt.subplot(2, 3, 3)\n",
        "        vmodel = V_model.predict(x_test[num].reshape(1, 224, 224, 1))[0, :, :, 0]\n",
        "        plt.imshow(vmodel, 'gray')\n",
        "        plt.title('Values')\n",
        "\n",
        "        # Dot product Q.K^T\n",
        "        plt.subplot(2, 3, 4)\n",
        "        QKt = QKt_model.predict(x_test[num].reshape(1, 224, 224, 1))[0, :, :]\n",
        "        plt.imshow(QKt, 'gray')\n",
        "        plt.title('Dot product Q.K^T')\n",
        "\n",
        "        # Attention matrix\n",
        "        result_attm = att_matrix.predict(x_test[num].reshape(1, 224, 224, 1))\n",
        "        plt.subplot(2, 3, 5)\n",
        "        plt.imshow(result_attm[0], 'gray')\n",
        "        plt.title('Attention matrix')\n",
        "\n",
        "        # Self attention\n",
        "        result_self = model_selfatt.predict(x_test[num].reshape(1, 224, 224, 1))\n",
        "        plt.subplot(2, 3, 6)\n",
        "        plt.imshow(result_self[0], 'gray')\n",
        "        plt.title('Self attention')\n",
        "\n",
        "        # Show the plots\n",
        "        plt.show()\n"
      ]
    },
    {
      "cell_type": "markdown",
      "metadata": {
        "id": "2XqOMKSW4_XY"
      },
      "source": [
        "### Results"
      ]
    },
    {
      "cell_type": "code",
      "execution_count": null,
      "metadata": {
        "id": "bpggec09wOFc"
      },
      "outputs": [],
      "source": [
        "# Evaluate the model on the test data and calculate the test loss and accuracy\n",
        "score = model.evaluate(x_test, y_test2, verbose=0)\n",
        "\n",
        "# Print the test loss and test accuracy\n",
        "print(\"Test Loss:\", score[0])\n",
        "print(\"Test Accuracy:\", score[1])\n"
      ]
    },
    {
      "cell_type": "code",
      "execution_count": null,
      "metadata": {
        "id": "LJ7bdya5wnc7"
      },
      "outputs": [],
      "source": [
        "# Create a figure to plot model accuracy\n",
        "plt.figure()\n",
        "plt.plot(history.history['accuracy'], label='accuracy')  # Training accuracy\n",
        "plt.plot(history.history['val_accuracy'], label='val_accuracy')  # Validation accuracy\n",
        "plt.title('Model accuracy')\n",
        "plt.xlabel('Epochs')\n",
        "plt.ylabel('Accuracy')\n",
        "plt.ylim([0.3, 1])  # Set the y-axis range for accuracy\n",
        "plt.legend(loc='lower right')\n",
        "plt.show()\n",
        "\n",
        "# Create a figure to plot model loss\n",
        "plt.figure()\n",
        "plt.plot(history.history['loss'], label='loss')  # Training loss\n",
        "plt.plot(history.history['val_loss'], label='val_loss')  # Validation loss\n",
        "plt.title('Model loss')\n",
        "plt.xlabel('Epochs')\n",
        "plt.ylabel('Loss')\n",
        "plt.ylim([0, 0.9])  # Set the y-axis range for loss\n",
        "plt.legend(loc='lower right')\n",
        "plt.show()\n"
      ]
    },
    {
      "cell_type": "markdown",
      "metadata": {
        "id": "Gv4IbLtF1WF1"
      },
      "source": [
        "### Confusion_matrix"
      ]
    },
    {
      "cell_type": "code",
      "execution_count": null,
      "metadata": {
        "id": "qJDIAshq3ijd"
      },
      "outputs": [],
      "source": [
        "# Generate predictions on the test data using the trained model\n",
        "outputTest = model.predict(x_test, verbose=0)\n",
        "\n",
        "# Calculate the confusion matrix based on true labels 'y_test' and predicted labels\n",
        "cm = confusion_matrix(y_test, np.argmax(outputTest, axis=1))\n",
        "\n",
        "# The 'outputTest' contains the predicted class probabilities for each sample in 'x_test'.\n",
        "# The 'confusion_matrix' function computes the confusion matrix based on true labels 'y_test' and predicted labels.\n",
        "# 'cm' now contains the confusion matrix."
      ]
    },
    {
      "cell_type": "code",
      "execution_count": null,
      "metadata": {
        "id": "0JS7rTLd37xa"
      },
      "outputs": [],
      "source": [
        "def plot_confusion_matrix(cm, num_classes, normalize=False, title='Confusion Matrix', cmap=plt.cm.Blues):\n",
        "    \"\"\"\n",
        "    Plot a confusion matrix.\n",
        "\n",
        "    Args:\n",
        "        cm (numpy.ndarray): Confusion matrix to be plotted.\n",
        "        num_classes (int): Number of classes in the classification task.\n",
        "        normalize (bool): Whether to normalize the confusion matrix (default: False).\n",
        "        title (str): Title for the plot (default: 'Matrix de Confusion').\n",
        "        cmap (matplotlib.colors.Colormap): Colormap to be used for the plot (default: plt.cm.Blues).\n",
        "    \"\"\"\n",
        "    import itertools\n",
        "\n",
        "    # Define class labels based on the number of classes\n",
        "    classes = ['Normal', 'Covid', 'Pneumonia']  # You may adjust these labels based on your specific classes\n",
        "\n",
        "    # Create a figure and set its size\n",
        "    plt.figure(figsize=(7, 7))\n",
        "\n",
        "    # Plot the confusion matrix\n",
        "    plt.imshow(cm, interpolation='nearest', cmap=cmap)\n",
        "    plt.title(title)\n",
        "    plt.colorbar()\n",
        "    tick_marks = np.arange(len(classes))\n",
        "    plt.xticks(tick_marks, classes, rotation=90)\n",
        "    plt.yticks(tick_marks, classes)\n",
        "\n",
        "    # Normalize the confusion matrix if specified\n",
        "    if normalize:\n",
        "        cm = cm.astype('float') / cm.sum(axis=1)[:, np.newaxis]\n",
        "        cm = np.round(cm, 3)\n",
        "\n",
        "    # Determine the threshold for text color based on the maximum value in the confusion matrix\n",
        "    thresh = cm.max() / 2.\n",
        "\n",
        "    # Add text to the plot to display values in the confusion matrix\n",
        "    for i, j in itertools.product(range(cm.shape[0]), range(cm.shape[1])):\n",
        "        plt.text(j, i, cm[i, j],\n",
        "                 horizontalalignment=\"center\",\n",
        "                 color=\"white\" if cm[i, j] > thresh else \"black\")\n",
        "\n",
        "    # Configure labels and layout\n",
        "    plt.tight_layout()\n",
        "    plt.ylabel('Original')\n",
        "    plt.xlabel('Predictions')\n",
        "\n",
        "plot_confusion_matrix(cm, num_classes=3, normalize=False)"
      ]
    }
  ],
  "metadata": {
    "accelerator": "GPU",
    "colab": {
      "machine_shape": "hm",
      "provenance": [],
      "gpuType": "T4"
    },
    "kernelspec": {
      "display_name": "Python 3",
      "name": "python3"
    },
    "language_info": {
      "name": "python"
    }
  },
  "nbformat": 4,
  "nbformat_minor": 0
}